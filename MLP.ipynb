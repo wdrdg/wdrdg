{
  "nbformat": 4,
  "nbformat_minor": 0,
  "metadata": {
    "colab": {
      "name": "MLP.ipynb",
      "provenance": [],
      "collapsed_sections": [],
      "include_colab_link": true
    },
    "kernelspec": {
      "display_name": "Python 3",
      "name": "python3"
    }
  },
  "cells": [
    {
      "cell_type": "markdown",
      "metadata": {
        "id": "view-in-github",
        "colab_type": "text"
      },
      "source": [
        "<a href=\"https://colab.research.google.com/github/wdrdg/wdrdg/blob/master/MLP.ipynb\" target=\"_parent\"><img src=\"https://colab.research.google.com/assets/colab-badge.svg\" alt=\"Open In Colab\"/></a>"
      ]
    },
    {
      "cell_type": "markdown",
      "metadata": {
        "id": "pQSpfJqXMHX_"
      },
      "source": [
        "#Load the data"
      ]
    },
    {
      "cell_type": "code",
      "metadata": {
        "id": "qeXdgkYvMM0N",
        "colab": {
          "base_uri": "https://localhost:8080/"
        },
        "outputId": "e52ce702-3c4c-43c5-c5b7-f2a694109e63"
      },
      "source": [
        "import tensorflow as tf\n",
        "import numpy as np\n",
        "%matplotlib inline\n",
        "import matplotlib.pyplot as plt\n",
        "from sklearn.model_selection import train_test_split\n",
        "import tensorflow as tf\n",
        "from tensorflow.python.client import device_lib\n",
        "device_lib.list_local_devices()"
      ],
      "execution_count": null,
      "outputs": [
        {
          "output_type": "execute_result",
          "data": {
            "text/plain": [
              "[name: \"/device:CPU:0\"\n",
              " device_type: \"CPU\"\n",
              " memory_limit: 268435456\n",
              " locality {\n",
              " }\n",
              " incarnation: 8001054465787341777]"
            ]
          },
          "metadata": {
            "tags": []
          },
          "execution_count": 1
        }
      ]
    },
    {
      "cell_type": "code",
      "metadata": {
        "id": "riAo7Ml-MROD"
      },
      "source": [
        "(x_train, y_train), (x_test, y_test) = tf.keras.datasets.mnist.load_data()\n",
        "x_train, x_test = x_train[..., np.newaxis], x_test[..., np.newaxis]\n",
        "# Rescale the images from [0,255] to the [0.0,1.0] range.\n",
        "# x_train, x_test = x_train[..., np.newaxis]/255.0, x_test[..., np.newaxis]/255.0"
      ],
      "execution_count": null,
      "outputs": []
    },
    {
      "cell_type": "markdown",
      "metadata": {
        "id": "2Uzaae1LJFZ6"
      },
      "source": [
        "# Change the 4D array to 2D then 3D\n",
        "\n",
        "\n",
        "\n",
        "\n",
        "flatten the point in the row order--feature is the point on the row"
      ]
    },
    {
      "cell_type": "code",
      "metadata": {
        "id": "w3z80WQeJUUf"
      },
      "source": [
        "def change_dim(x_data):\n",
        "  result=[]\n",
        "  \n",
        "  for image in x_data:\n",
        "    image_ary = image.flatten()\n",
        "    image_ary = image_ary.astype(np.float32)\n",
        "    result.append(image_ary)\n",
        "  \n",
        "  result=np.asarray(result)\n",
        "\n",
        "  return result"
      ],
      "execution_count": null,
      "outputs": []
    },
    {
      "cell_type": "markdown",
      "metadata": {
        "id": "tQcsUd7HTJEa"
      },
      "source": [
        "#Data process\n"
      ]
    },
    {
      "cell_type": "code",
      "metadata": {
        "id": "eitoqi0jJ6lg"
      },
      "source": [
        "x_train = change_dim(x_train)\n",
        "x_train/=255\n",
        "\n",
        "x_train, x_vali, y_train, y_vali = train_test_split(x_train,y_train, test_size=0.2)\n",
        "\n",
        "x_train = x_train.reshape(x_train.shape[0], x_train.shape[1], 1)\n",
        "x_vali = x_vali.reshape(x_vali.shape[0], x_vali.shape[1], 1)\n",
        "\n",
        "x_test = change_dim(x_test)\n",
        "x_test = x_test/255\n",
        "x_test = x_test.reshape(x_test.shape[0], x_test.shape[1], 1)\n",
        "\n",
        "import copy\n",
        "x_unnormalized_train = copy.deepcopy(x_train)\n",
        "x_unnormalized_test = copy.deepcopy(x_test)"
      ],
      "execution_count": null,
      "outputs": []
    },
    {
      "cell_type": "markdown",
      "metadata": {
        "id": "Yq_GLz0lRwcY"
      },
      "source": [
        "y_train_oh and y_test_oh are the final label dataset we will use in the train and test"
      ]
    },
    {
      "cell_type": "code",
      "metadata": {
        "id": "n3gmbCYMRMr0"
      },
      "source": [
        "y_train_oh = np.zeros((y_train.size, 10))\n",
        "for i, row in enumerate(y_train_oh):\n",
        "    row[y_train[i]] = 1\n",
        "y_train_oh = y_train_oh.reshape(y_train_oh.shape[0], y_train_oh.shape[1], 1)  \n",
        "\n",
        "y_vali_oh = np.zeros((y_vali.size, 10))\n",
        "for i, row in enumerate(y_vali_oh):\n",
        "    row[y_vali[i]] = 1\n",
        "y_vali_oh = y_vali_oh.reshape(y_vali_oh.shape[0], y_vali_oh.shape[1], 1)  \n",
        "\n",
        "y_test_oh = np.zeros((y_test.size, 10))\n",
        "for i, row in enumerate(y_test_oh):\n",
        "    row[y_test[i]] = 1\n",
        "y_test_oh = y_test_oh.reshape(y_test_oh.shape[0], y_test_oh.shape[1], 1)  "
      ],
      "execution_count": null,
      "outputs": []
    },
    {
      "cell_type": "code",
      "metadata": {
        "id": "VL12b97WsVg1"
      },
      "source": [
        "#print(y_train_oh[0,:,:].shape)"
      ],
      "execution_count": null,
      "outputs": []
    },
    {
      "cell_type": "code",
      "metadata": {
        "colab": {
          "base_uri": "https://localhost:8080/",
          "height": 295
        },
        "id": "iSQC2qN2wRme",
        "outputId": "d5dee5a9-f4b4-47e0-d0f2-bdc30e1c6aa2"
      },
      "source": [
        "#Class distribution visualization\n",
        "unique, counts = np.unique(y_train, return_counts=True)\n",
        "plt.bar(unique, counts)\n",
        "unique, counts = np.unique(y_test, return_counts=True)\n",
        "plt.bar(unique, counts)\n",
        "\n",
        "plt.title('Class Frequency')\n",
        "plt.xlabel('Class')\n",
        "plt.ylabel('Frequency')\n",
        "\n",
        "plt.show()"
      ],
      "execution_count": null,
      "outputs": [
        {
          "output_type": "display_data",
          "data": {
            "image/png": "[encoded data removed]",
            "text/plain": [
              "<Figure size 432x288 with 1 Axes>"
            ]
          },
          "metadata": {
            "tags": [],
            "needs_background": "light"
          }
        }
      ]
    },
    {
      "cell_type": "markdown",
      "metadata": {
        "id": "W3AC3W-Oiyzd"
      },
      "source": [
        "# Multilayer Perceptron"
      ]
    },
    {
      "cell_type": "code",
      "metadata": {
        "id": "0JtL6GNwi2Rk"
      },
      "source": [
        "sigmoid = lambda z: 1./ (1 + np.exp(-z))\n",
        "sigmoid_prime = lambda z: sigmoid(z) * (1 - sigmoid(z))\n",
        "ReLU = lambda z: np.maximum(z, 0)\n",
        "def ReLU_prime(z):\n",
        "     z[z<=0] = 0\n",
        "     z[z>0] = 1\n",
        "     return z\n",
        "tanh = lambda z: (np.exp(z)-np.exp(-z))/(np.exp(z)+np.exp(-z))\n",
        "tanh_prime = lambda z: 1-tanh(z)**2\n",
        "softmax = lambda z: np.exp(z) / np.sum(np.exp(z), axis=0)\n",
        "# softmax derivative todo\n",
        "# regularization todo\n",
        "\n",
        "class MLP(object):\n",
        "    \n",
        "    def __init__(self, sizes, activation_func, activation_func_prime, lam, beta1):\n",
        "        self.num_layers = len(sizes)\n",
        "        self.sizes = sizes\n",
        "        self.weights = [np.random.randn(n,m)*np.sqrt(2/(m+n)) for m,n in zip(sizes[:-1], sizes[1:])]   \n",
        "        # random initialize with some trick\n",
        "        self.biases = [np.random.randn(n,1) for n in sizes[1:]]\n",
        "        self.activation_func = activation_func\n",
        "        self.activation_func_prime = activation_func_prime\n",
        "        self.lam = lam # lam is lambda, the amount of l2\n",
        "        self.beta1 = beta1 \n",
        "\n",
        "    def feed_forward(self, x):'\n",
        "        value = x\n",
        "        for i in range(len(self.weights)-1):\n",
        "            value = self.activation_func(np.dot(self.weights[i], value) + self.biases[i])\n",
        "        y = softmax(np.dot(self.weights[-1], value) + self.biases[-1])\n",
        "        return y\n",
        "\n",
        "    def backprop(self, x, y, lam):\n",
        "        delta_nabla_b = [np.zeros(b.shape) for b in self.biases]\n",
        "        delta_nabla_w = [np.zeros(w.shape) for w in self.weights]\n",
        "        \n",
        "        activations = [x]\n",
        "        zs = []\n",
        "        for b, w in zip(self.biases[:-1], self.weights[:-1]):\n",
        "            z = np.dot(w, activations[-1]) + b\n",
        "            zs.append(z)\n",
        "            activation = self.activation_func(z)\n",
        "            activations.append(activation)\n",
        "        \n",
        "        z = np.dot(self.weights[-1], activations[-1]) + self.biases[-1] \n",
        "        zs.append(z)\n",
        "        activation = softmax(z)\n",
        "        activations.append(activation)\n",
        "        delta = activations[-1] - y\n",
        "        delta_nabla_b[-1] = delta\n",
        "        delta_nabla_w[-1] = np.dot(delta, activations[-2].T) + lam*self.weights[-1] \n",
        "        for l in range(2, self.num_layers):\n",
        "            delta = np.dot(self.weights[-l+1].transpose(), delta) * self.activation_func_prime(zs[-l])\n",
        "            delta_nabla_b[-l] = delta\n",
        "            delta_nabla_w[-l] = np.dot(delta, activations[-l-1].transpose()) + lam*self.weights[-l]\n",
        "        return delta_nabla_b, delta_nabla_w\n",
        "\n",
        "\n",
        "    def update_mini_batch(self, mini_batch_image, mini_batch_label, eta, mini_batch_size, beta1):\n",
        "        nabla_b = [np.zeros(b.shape) for b in self.biases]\n",
        "        nabla_w = [np.zeros(w.shape) for w in self.weights]\n",
        "        last_w = [np.zeros(w.shape) for w in self.weights]\n",
        "        for x,y in zip(mini_batch_image, mini_batch_label):\n",
        "            delta_nabla_b, delta_nabla_w = self.backprop(x, y, self.lam)\n",
        "            delta_nabla_w = [beta1*lw + (1-beta1)*dnw for lw, dnw in zip(last_w, delta_nabla_w)]# momentum\n",
        "            last_w = [dnb for dnb in delta_nabla_w]\n",
        "\n",
        "            nabla_b = [nb+dnb for nb, dnb in zip(nabla_b, delta_nabla_b)]\n",
        "            nabla_w = [nw+dnw for nw, dnw in zip(nabla_w, delta_nabla_w)]\n",
        "        self.weights = [w-(eta/mini_batch_size)*nw for w, nw in zip(self.weights, nabla_w)]\n",
        "        self.biases = [b-(eta/mini_batch_size)*nb for b, nb in zip(self.biases, nabla_b)]\n",
        "\n",
        "    def fit(self, train_image, train_label, epochs, mini_batch_size, eta):\n",
        "        for j in range(epochs):\n",
        "            mini_batches_image = [train_image[k:k+mini_batch_size] for k in range(0, len(train_image), mini_batch_size)]\n",
        "            mini_batches_label = [train_label[k:k+mini_batch_size] for k in range(0, len(train_label), mini_batch_size)]\n",
        "            for mini_batch_image, mini_batch_label in zip(mini_batches_image, mini_batches_label):\n",
        "                self.update_mini_batch(mini_batch_image, mini_batch_label, eta, mini_batch_size, beta1=self.beta1)   \n",
        "\n",
        "    def fit_and_evaluate(self, train_image, train_label, epochs, mini_batch_size,eta,test_x,test_y):\n",
        "        accuracies = []\n",
        "        for j in range(epochs):\n",
        "            mini_batches_image = [train_image[k:k+mini_batch_size] for k in range(0, len(train_image), mini_batch_size)]\n",
        "            mini_batches_label = [train_label[k:k+mini_batch_size] for k in range(0, len(train_label), mini_batch_size)]\n",
        "            for mini_batch_image, mini_batch_label in zip(mini_batches_image, mini_batches_label):\n",
        "                self.update_mini_batch(mini_batch_image, mini_batch_label, eta, mini_batch_size, beta1=self.beta1) \n",
        "            accuracies.append( self.evaluate_acc(self.predict(test_x),test_y) )  \n",
        "        return accuracies\n",
        "\n",
        "    def predict(self, images):\n",
        "        result = []\n",
        "        accuracy = []\n",
        "        for img in images:\n",
        "              predict_label = self.feed_forward(img)\n",
        "              result.append(predict_label)\n",
        "              #result.append(np.argmax(predict_label))\n",
        "              #accuracy.append(self.evaluate_acc())\n",
        "        return result\n",
        "\n",
        "    def evaluate_acc(self, predicted_ys, true_ys): \n",
        "        result = 0\n",
        "        for predicted_y, true_y in zip(predicted_ys, true_ys):\n",
        "            if np.argmax(predicted_y) == np.argmax(true_y):\n",
        "                result += 1\n",
        "        return result/len(true_ys)\n",
        "        #return np.sum(y_predict == y_test) / len(y_test) #！！！！！！！！！！！！！"
      ],
      "execution_count": null,
      "outputs": []
    },
    {
      "cell_type": "markdown",
      "metadata": {
        "id": "Mk8IssbCgLo1"
      },
      "source": [
        "# testing"
      ]
    },
    {
      "cell_type": "markdown",
      "metadata": {
        "id": "qkDjVOlX5YLO"
      },
      "source": [
        "# Hyperparam tuning for 0 hidden layer with ReLU activation"
      ]
    },
    {
      "cell_type": "code",
      "metadata": {
        "id": "cI6WNL495h3k",
        "colab": {
          "base_uri": "https://localhost:8080/"
        },
        "outputId": "bc542ebb-b1dc-4cf5-cfb0-3f2a0d846f09"
      },
      "source": [
        "#no hidden layer\n",
        "identity_activation = lambda z: z\n",
        "# bestAcc = float(\"-inf\")\n",
        "best_LR = 0\n",
        "accs = []\n",
        "learning_rate = [0.01,0.05,0.1]\n",
        "for eta in learning_rate:\n",
        "  MLP1 = MLP([784,10], identity_activation,identity_activation, 0 ,beta1=0.95)\n",
        "  acc=MLP1.fit_and_evaluate(x_train, y_train_oh,epochs=20, mini_batch_size=128, eta=eta ,test_x=x_vali,test_y=y_vali_oh)\n",
        "  accs.append(acc[-1])\n",
        "  print(accs)\n",
        "  # if(acc[-1] > bestAcc) :\n",
        "  #   bestAcc = acc[-1]\n",
        "  #   best_LR = learning_rate\n",
        "\n",
        "bestAcc = np.max(accs)\n",
        "best_LR = learning_rate[np.argmax(accs)]\n",
        "print(\"The best validation accuracy is {0} for no hidden layer with ReLU activation, produced learning_rate={1}\".format(bestAcc,best_LR))  \n"
      ],
      "execution_count": null,
      "outputs": [
        {
          "output_type": "stream",
          "text": [
            "[0.89425]\n",
            "[0.89425, 0.9143333333333333]\n",
            "[0.89425, 0.9143333333333333, 0.9171666666666667]\n",
            "The best validation accuracy is 0.9171666666666667 for no hidden layer with ReLU activation, produced learning_rate=0.1\n"
          ],
          "name": "stdout"
        }
      ]
    },
    {
      "cell_type": "markdown",
      "metadata": {
        "id": "umkB5mpX66qe"
      },
      "source": [
        "# Hyperparam tuning for 1 hidden layer with ReLU activation"
      ]
    },
    {
      "cell_type": "code",
      "metadata": {
        "id": "F8qJDNyV7Br3",
        "colab": {
          "base_uri": "https://localhost:8080/"
        },
        "outputId": "f9d95e70-d7a9-439a-ca18-4cc2ff316301"
      },
      "source": [
        "#one hidden layer\n",
        "# TODO using validation set for tuning\n",
        "identity_activation = lambda z: z\n",
        "bestAcc = float(\"-inf\")\n",
        "best_LR = 0\n",
        "accs = []\n",
        "learning_rate = [0.005, 0.01, 0.02]\n",
        "for eta in learning_rate:\n",
        "  MLP1 = MLP([784,128,10], ReLU,ReLU_prime,0 ,beta1=0.95)\n",
        "  acc=MLP1.fit_and_evaluate(x_train, y_train_oh,epochs=20, mini_batch_size=128,eta=eta,test_x=x_vali,test_y=y_vali_oh)\n",
        "  accs.append(acc[-1])\n",
        "  print(accs)\n",
        "  # if(acc[-1] > bestAcc) :\n",
        "  #   bestAcc = acc[-1]\n",
        "  #   best_LR = learning_rate\n",
        "\n",
        "bestAcc = np.max(accs)\n",
        "best_LR = learning_rate[np.argmax(accs)]\n",
        "print(\"The best validation accuracy is {0} for one-hidden layer with ReLU activation, produced learning_rate={1}\".format(bestAcc,best_LR))  \n"
      ],
      "execution_count": null,
      "outputs": [
        {
          "output_type": "stream",
          "text": [
            "[0.905]\n",
            "[0.905, 0.9188333333333333]\n",
            "[0.905, 0.9188333333333333, 0.9359166666666666]\n",
            "The best validation accuracy is 0.9359166666666666 for one-hidden layer with ReLU activation, produced learning_rate=0.02\n"
          ],
          "name": "stdout"
        }
      ]
    },
    {
      "cell_type": "markdown",
      "metadata": {
        "id": "2veHe0l3HAom"
      },
      "source": [
        "# Hyperparam tuning for 2 hidden layer with ReLU activation (only learning rate for 3.1)"
      ]
    },
    {
      "cell_type": "code",
      "metadata": {
        "colab": {
          "base_uri": "https://localhost:8080/"
        },
        "id": "YvlrnHBxPRza",
        "outputId": "216ddce4-975b-44e1-9b91-f93038fd9b14"
      },
      "source": [
        "#two hidden layer\n",
        "# TODO using validation set for tuning\n",
        "identity_activation = lambda z: z\n",
        "bestAcc = float(\"-inf\")\n",
        "best_LR = 0\n",
        "accs = []\n",
        "learning_rate = [0.001, 0.005, 0.01]\n",
        "for eta in learning_rate:\n",
        "  MLP1 = MLP([784,128,128,10], ReLU,ReLU_prime,0 ,beta1=0.95)\n",
        "  acc=MLP1.fit_and_evaluate(x_train, y_train_oh,epochs=20, mini_batch_size=128,eta=eta,test_x=x_vali,test_y=y_vali_oh)\n",
        "  accs.append(acc[-1])\n",
        "  print(accs)\n",
        "  # if(acc[-1] > bestAcc) :\n",
        "  #   bestAcc = acc[-1]\n",
        "  #   best_LR = learning_rate\n",
        "\n",
        "bestAcc = np.max(accs)\n",
        "best_LR = learning_rate[np.argmax(accs)]\n",
        "print(\"The best validation accuracy is {0} for two-hidden layer with ReLU activation, produced learning_rate={1}\".format(bestAcc,best_LR)) "
      ],
      "execution_count": null,
      "outputs": [
        {
          "output_type": "stream",
          "text": [
            "[0.8696666666666667]\n",
            "[0.8696666666666667, 0.9165]\n",
            "[0.8696666666666667, 0.9165, 0.931]\n",
            "The best validation accuracy is 0.931 for one-hidden layer with ReLU activation, produced learning_rate=0.01\n"
          ],
          "name": "stdout"
        }
      ]
    },
    {
      "cell_type": "markdown",
      "metadata": {
        "id": "jZ_Q_PXweiBp"
      },
      "source": [
        "# 3.1 Comparison across 3 different MLP models"
      ]
    },
    {
      "cell_type": "code",
      "metadata": {
        "id": "c-A1SDNsepJd"
      },
      "source": [
        "identity_activation = lambda z: z\n",
        "#MLP with with no hidden layer\n",
        "MLP1 = MLP([784,10], identity_activation, identity_activation, lam=0,beta1=0.95)\n",
        "acc1=MLP1.fit_and_evaluate(x_train, y_train_oh, epochs=50, mini_batch_size=128,eta=0.1,test_x=x_test,test_y=y_test_oh)\n",
        "#MLP with with one hidden layer of 128 units and using ReLU activation \n",
        "MLP2 = MLP([784,128,10], ReLU, ReLU_prime, lam=0, beta1=0.95)\n",
        "acc2=MLP2.fit_and_evaluate(x_train, y_train_oh,epochs=50, mini_batch_size=128,eta=0.02,test_x=x_test,test_y=y_test_oh)\n",
        "#MLP with with 2 hidden layers of 128 units and using ReLU activation\n",
        "MLP3 = MLP([784,128,128,10], ReLU, ReLU_prime, lam=0, beta1=0.95)\n",
        "acc3=MLP3.fit_and_evaluate(x_train, y_train_oh,epochs=50, mini_batch_size=128,eta=0.01,test_x=x_test,test_y=y_test_oh)"
      ],
      "execution_count": null,
      "outputs": []
    },
    {
      "cell_type": "code",
      "metadata": {
        "colab": {
          "base_uri": "https://localhost:8080/",
          "height": 281
        },
        "id": "vZWdpA6rSilZ",
        "outputId": "07cabb75-d176-4870-99a8-8148debe2e35"
      },
      "source": [
        "#The performances of the three models compared\n",
        "plt.xticks(range(0,60,5))\n",
        "plt.title(\"3.1 Test accuracies using different types of model\")\n",
        "plt.plot(acc1, '-', label=\"no hidden layer\")\n",
        "plt.plot(acc2,'-', label=\"1 hidden layer of 128 units (ReLU)\")\n",
        "plt.plot(acc3, '-', label=\"2 hidden layer of 128 units (ReLU)\")\n",
        "plt.legend()\n",
        "plt.show()"
      ],
      "execution_count": null,
      "outputs": [
        {
          "output_type": "display_data",
          "data": {
            "image/png": "[encoded data removed]",
            "text/plain": [
              "<Figure size 432x288 with 1 Axes>"
            ]
          },
          "metadata": {
            "tags": [],
            "needs_background": "light"
          }
        }
      ]
    },
    {
      "cell_type": "markdown",
      "metadata": {
        "id": "4hDg0SaAomHp"
      },
      "source": [
        "# 3.2 examining the performance of the 2-hidden-layer MLP when given different activation functions"
      ]
    },
    {
      "cell_type": "code",
      "metadata": {
        "id": "oVgsC3qTpIEg"
      },
      "source": [
        "#ReLU activation\n",
        "MLP1 = MLP([784,128,128,10], ReLU,ReLU_prime, lam=0,beta1=0.95)\n",
        "acc1=MLP1.fit_and_evaluate(x_train, y_train_oh, epochs=20, mini_batch_size=128,eta=0.01,test_x=x_test,test_y=y_test_oh)\n",
        "#sigmoid activation\n",
        "MLP2 = MLP([784,128,128,10], sigmoid, sigmoid_prime, lam=0,beta1=0.95)\n",
        "acc2=MLP2.fit_and_evaluate(x_train, y_train_oh,epochs=20, mini_batch_size=128,eta=0.01,test_x=x_test,test_y=y_test_oh)\n",
        "#tanh activation\n",
        "MLP3 = MLP([784,128,128,10],tanh,tanh_prime, lam=0,beta1=0.95)\n",
        "acc3=MLP3.fit_and_evaluate(x_train, y_train_oh, epochs=20,mini_batch_size=128,eta=0.01,test_x=x_test,test_y=y_test_oh)\n",
        "\n",
        "acc4=MLP2.fit_and_evaluate(x_train, y_train_oh,epochs=20, mini_batch_size=128,eta=0.05,test_x=x_test,test_y=y_test_oh)\n",
        "\n",
        "acc5=MLP2.fit_and_evaluate(x_train, y_train_oh,epochs=20, mini_batch_size=128,eta=0.1,test_x=x_test,test_y=y_test_oh)\n",
        "#performances compared\n",
        "plt.xticks(range(0,30,5))\n",
        "plt.title(\"3.2 Test accuracies using different types of model\")\n",
        "plt.plot(acc1, '-', label=\"ReLU activation(eta=0.01)\")\n",
        "plt.plot(acc2,'-', label=\"sigmoid activation(eta=0.01)\")\n",
        "plt.plot(acc3, '-', label=\"tanh activation(eta=0.01)\")\n",
        "plt.plot(acc4, '-', label=\"sigmoid activation(eta=0.05)\")\n",
        "plt.plot(acc5, '-', label=\"sigmoid activation(eta=0.1)\")\n",
        "plt.legend()\n",
        "plt.show()"
      ],
      "execution_count": null,
      "outputs": []
    },
    {
      "cell_type": "markdown",
      "metadata": {
        "id": "LxGTP3TDuCWr"
      },
      "source": [
        "# 3.3 2-hidden-layer MLP (with ReLU activation) performance when having or not having L2 regularization"
      ]
    },
    {
      "cell_type": "code",
      "metadata": {
        "colab": {
          "base_uri": "https://localhost:8080/",
          "height": 281
        },
        "id": "3vG-OCDFufKk",
        "outputId": "f1e1b708-6e07-4331-8b64-43d4e759fc05"
      },
      "source": [
        "#no L2 regularization\n",
        "MLP1 = MLP([784,128,10], ReLU,ReLU_prime, lam=0.1,beta1=0.95)\n",
        "acc1=MLP1.fit_and_evaluate(x_train, y_train_oh, epochs=20, mini_batch_size=128,eta=0.02,test_x=x_test,test_y=y_test_oh)\n",
        "#L2 with lambda=0.1\n",
        "MLP2 = MLP([784,128,10], ReLU,ReLU_prime, lam=0.2,beta1=0.95)\n",
        "acc2=MLP2.fit_and_evaluate(x_train, y_train_oh,epochs=20, mini_batch_size=128,eta=0.02,test_x=x_test,test_y=y_test_oh)\n",
        "#L2 with lambda=0.2\n",
        "MLP3 = MLP([784,128,10],ReLU,ReLU_prime, lam=0.3,beta1=0.95)\n",
        "acc3=MLP3.fit_and_evaluate(x_train, y_train_oh, epochs=20,mini_batch_size=128,eta=0.02,test_x=x_test,test_y=y_test_oh)\n",
        "#performances compared\n",
        "plt.xticks(range(0,30,5))\n",
        "plt.title(\"3.3 Test accuracies using different types of model\")\n",
        "plt.plot(acc1, '-', label=\"L2 with lambda=0.1\")\n",
        "plt.plot(acc2,'-', label=\"L2 with lambda=0.2\")\n",
        "plt.plot(acc3, '-', label=\"L2 with lambda=0.3\")\n",
        "plt.legend()\n",
        "plt.show()"
      ],
      "execution_count": null,
      "outputs": [
        {
          "output_type": "display_data",
          "data": {
            "image/png": "[encoded data removed]",
            "text/plain": [
              "<Figure size 432x288 with 1 Axes>"
            ]
          },
          "metadata": {
            "tags": [],
            "needs_background": "light"
          }
        }
      ]
    },
    {
      "cell_type": "markdown",
      "metadata": {
        "id": "hLaNVOXrGasw"
      },
      "source": [
        "# 3.4 2-hidden-layer MLPs' performance when having/not having normalized input"
      ]
    },
    {
      "cell_type": "code",
      "metadata": {
        "colab": {
          "base_uri": "https://localhost:8080/",
          "height": 369
        },
        "id": "sC1wOnVJG6ei",
        "outputId": "0c20f8dc-b057-47e1-b223-5d2d28b5cca4"
      },
      "source": [
        "#with normalized input\n",
        "#大概会去用加了lambda的模型去跑？\n",
        "MLP1 = MLP([784,128,128,10], ReLU,ReLU_prime, lam=0,beta1=0.95)\n",
        "acc1=MLP1.fit_and_evaluate(x_train, y_train_oh, epochs=25, mini_batch_size=128,eta=0.01,test_x=x_test,test_y=y_test_oh)\n",
        "#with un-normalized input\n",
        "MLP2 = MLP([784,128,128,10], ReLU,ReLU_prime, lam=0,beta1=0.95)\n",
        "acc2=MLP2.fit_and_evaluate(x_unnormalized_train, y_train_oh,epochs=25, mini_batch_size=128,eta=0.01,test_x=x_unnormalized_test,test_y=y_test_oh)\n",
        "#performances compared\n",
        "plt.xticks(range(0,30,5))\n",
        "plt.title(\"3.4 Test accuracies using different types of model\")\n",
        "plt.plot(acc1, '-', label=\"normalized data\")\n",
        "plt.plot(acc2,'-', label=\"un-normalized data\")\n",
        "plt.legend()\n",
        "plt.show()"
      ],
      "execution_count": null,
      "outputs": [
        {
          "output_type": "stream",
          "text": [
            "/usr/local/lib/python3.7/dist-packages/ipykernel_launcher.py:10: RuntimeWarning: overflow encountered in exp\n",
            "  # Remove the CWD from sys.path while we load stuff.\n",
            "/usr/local/lib/python3.7/dist-packages/ipykernel_launcher.py:10: RuntimeWarning: invalid value encountered in true_divide\n",
            "  # Remove the CWD from sys.path while we load stuff.\n"
          ],
          "name": "stderr"
        },
        {
          "output_type": "display_data",
          "data": {
            "image/png": "[encoded data removed]",
            "text/plain": [
              "<Figure size 432x288 with 1 Axes>"
            ]
          },
          "metadata": {
            "tags": []
          }
        }
      ]
    },
    {
      "cell_type": "markdown",
      "metadata": {
        "id": "5PE6_r6ktfhW"
      },
      "source": [
        "# Creativity 1: MLP performance vs number of units in hidden layers"
      ]
    },
    {
      "cell_type": "code",
      "metadata": {
        "colab": {
          "base_uri": "https://localhost:8080/",
          "height": 281
        },
        "id": "ObpL-0JzuCwu",
        "outputId": "dde98815-f58c-4493-9e86-4834bb85c2ee"
      },
      "source": [
        "#MLP with with one hidden layer of 128 units and using ReLU activation \n",
        "MLP1 = MLP([784,64,10], ReLU, ReLU_prime, lam=0, beta1=0.95)\n",
        "acc1=MLP1.fit_and_evaluate(x_train, y_train_oh,epochs=30, mini_batch_size=128,eta=0.02,test_x=x_test,test_y=y_test_oh)\n",
        "#MLP with with one hidden layer of 128 units and using ReLU activation \n",
        "MLP1 = MLP([784,128,10], ReLU, ReLU_prime, lam=0, beta1=0.95)\n",
        "acc2=MLP1.fit_and_evaluate(x_train, y_train_oh,epochs=30, mini_batch_size=128,eta=0.02,test_x=x_test,test_y=y_test_oh)\n",
        "#MLP with with one hidden layer of 128 units and using ReLU activation \n",
        "MLP1 = MLP([784,256,10], ReLU, ReLU_prime, lam=0, beta1=0.95)\n",
        "acc3=MLP1.fit_and_evaluate(x_train, y_train_oh,epochs=30, mini_batch_size=128,eta=0.02,test_x=x_test,test_y=y_test_oh)\n",
        "#performances compared\n",
        "plt.xticks(range(0,30,5))\n",
        "plt.title(\"Creativity1: Test accuracies using different types of model\")\n",
        "plt.plot(acc1, '-', label=\"64 units in hidden\")\n",
        "plt.plot(acc2,'-', label=\"128 units in hidden\")\n",
        "plt.plot(acc3, '-', label=\"256 units in hidden\")\n",
        "plt.legend()\n",
        "plt.show()"
      ],
      "execution_count": null,
      "outputs": [
        {
          "output_type": "display_data",
          "data": {
            "image/png": "[encoded data removed]",
            "text/plain": [
              "<Figure size 432x288 with 1 Axes>"
            ]
          },
          "metadata": {
            "tags": [],
            "needs_background": "light"
          }
        }
      ]
    },
    {
      "cell_type": "markdown",
      "metadata": {
        "id": "ljj8hm0zvKiC"
      },
      "source": [
        "# Creativity 2: MLP performance vs training dataset size"
      ]
    },
    {
      "cell_type": "code",
      "metadata": {
        "id": "TKw9vUSEvSBg"
      },
      "source": [
        "#splitting the data\n",
        "train_x_2 = x_train[:10**2]\n",
        "train_y_2 = y_train_oh[:10**2]\n",
        "train_x_3 = x_train[:10**3]\n",
        "train_y_3 = y_train_oh[:10**3]\n",
        "train_x_4 = x_train[:10**4]\n",
        "train_y_4 = y_train_oh[:10**4]\n",
        "#MLP with with one hidden layer of 128 units and using ReLU activation, trained on 10^2 images\n",
        "MLP = MLP([784,256,10], ReLU, ReLU_prime, lam=0, beta1=0.95)\n",
        "acc1=MLP.fit_and_evaluate(train_x_2, train_y_2,epochs=30, mini_batch_size=128,eta=0.02,test_x=x_test,test_y=y_test_oh)\n",
        "#MLP with with one hidden layer of 128 units and using ReLU activation, trained on 10^3 images\n",
        "MLP = MLP([784,256,10], ReLU, ReLU_prime, lam=0, beta1=0.95)\n",
        "acc2=MLP.fit_and_evaluate(train_x_3, train_y_3,epochs=30, mini_batch_size=128,eta=0.02,test_x=x_test,test_y=y_test_oh)\n",
        "#MLP with with one hidden layer of 128 units and using ReLU activation, trained on 10^4 images\n",
        "MLP = MLP([784,256,10], ReLU, ReLU_prime, lam=0, beta1=0.95)\n",
        "acc3=MLP.fit_and_evaluate(train_x_4, train_y_4,epochs=30, mini_batch_size=128,eta=0.02,test_x=x_test,test_y=y_test_oh)\n",
        "#MLP with with one hidden layer of 128 units and using ReLU activation, trained on 60000 (full set) images\n",
        "MLP = MLP([784,256,10], ReLU, ReLU_prime, lam=0, beta1=0.95)\n",
        "acc4=MLP.fit_and_evaluate(x_train, y_train_oh,epochs=30, mini_batch_size=128,eta=0.02,test_x=x_test,test_y=y_test_oh)\n",
        "#performances compared\n",
        "plt.xticks(range(0,30,5))\n",
        "plt.title(\"Creativity 2: Test accuracies using different types of model\")\n",
        "plt.plot(acc1, '-', label=\"10^2 images\")\n",
        "plt.plot(acc2,'-', label=\"10^3 images\")\n",
        "plt.plot(acc3, '-', label=\"10^4 images\")\n",
        "plt.plot(acc4, '-', label=\"60000 images\")\n",
        "plt.legend()\n",
        "plt.show()"
      ],
      "execution_count": null,
      "outputs": []
    }
  ]
}